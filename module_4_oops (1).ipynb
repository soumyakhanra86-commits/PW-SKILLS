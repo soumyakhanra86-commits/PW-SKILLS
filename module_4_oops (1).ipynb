{
  "nbformat": 4,
  "nbformat_minor": 0,
  "metadata": {
    "colab": {
      "provenance": []
    },
    "kernelspec": {
      "name": "python3",
      "display_name": "Python 3"
    },
    "language_info": {
      "name": "python"
    }
  },
  "cells": [
    {
      "cell_type": "markdown",
      "source": [
        "**PYTHONS OOPS QUESTION**"
      ],
      "metadata": {
        "id": "79WYf6K76cFO"
      }
    },
    {
      "cell_type": "markdown",
      "source": [
        "Q.1/  What is Object-Oriented Programming (OOP) ?  \n",
        "ANS:- object-oriented programm is a special style of programming that organize code using objects instead of functions. Objects combine data and behavior into a single unit . This makes programs more modular and easier to manage."
      ],
      "metadata": {
        "id": "qbcUIzgp7DC_"
      }
    },
    {
      "cell_type": "markdown",
      "source": [
        "Q.2/ What is a class in OOP ?  \n",
        "ANS:- A class is a blueprint or a template for creating an object . It defines variables and functions that describe the behavior of an object."
      ],
      "metadata": {
        "id": "kVhjLPejCB0N"
      }
    },
    {
      "cell_type": "markdown",
      "source": [
        "Q.3/ What is an object in OOP ?  \n",
        "ANS:- An object is a self-contained unit in oop class . An object has its own state and behavior . and its behaviors defined by class ."
      ],
      "metadata": {
        "id": "tm8woczsFt3N"
      }
    },
    {
      "cell_type": "markdown",
      "source": [
        "Q.4/ What is the difference between abstraction and encapsulation ?  \n",
        "ANS:- The main differnce between Abstraction and encapsulatio is that Abstraction can only show important details and hides the backgroud work but encapsulation keeps the data and methods together in a class and restricting direct access."
      ],
      "metadata": {
        "id": "Pr_JoDd0IieM"
      }
    },
    {
      "cell_type": "markdown",
      "source": [
        "Q.5/ What are dunder methods in Python ?  \n",
        "ANS:- Dunder methods are special predefined method in python .They allow objects to behave like built-in types and support operator overloading."
      ],
      "metadata": {
        "id": "nyJGgop6OXZp"
      }
    },
    {
      "cell_type": "markdown",
      "source": [
        "Q.6/ Explain the concept of inheritance in OOP ?  \n",
        "ANS:- Inheritance allows a child class to acquire properties and methods from  parent class .It helps in code reusability because we don’t need to write the same code again ."
      ],
      "metadata": {
        "id": "ZOuXcRHm2gX6"
      }
    },
    {
      "cell_type": "markdown",
      "source": [
        "Q.7/What is polymorphism in OOP ?  \n",
        "ANS:-Polymorphism allows objects of different classes to be treated as objects of a common superclass. This means a single function, method, or operator can work with different types of objects, and the behavior will vary depending on the specific object being used."
      ],
      "metadata": {
        "id": "qLE1Nu-E7kMj"
      }
    },
    {
      "cell_type": "markdown",
      "source": [
        "Q.8/ How is encapsulation achieved in Python ?  \n",
        "ANS:- Encapsulation in python can simpely be achived by hiding data inside a class and giving controlled access. its keeps the data safe and prevents accidental changes from outside the class."
      ],
      "metadata": {
        "id": "8FGRvk-l-joh"
      }
    },
    {
      "cell_type": "markdown",
      "source": [
        "Q.9/ What is a constructor in Python ?  \n",
        "ANS:- A constructor is a special method in python . It is automatically called when an object is created from a class and Every class can have only one constructor, but it can take different arguments."
      ],
      "metadata": {
        "id": "RzjFVn_xA426"
      }
    },
    {
      "cell_type": "markdown",
      "source": [
        "Q.10/ What are class and static methods in Python ?  \n",
        "ANS:- A class method is defined with @classmethod and takes cls as the first parameter. It can access or modify class variables.\n",
        "A static method is defined with @staticmethod and does not take self or cls. It behaves like a normal function inside a class.\n"
      ],
      "metadata": {
        "id": "Ktv9IA0NCe3Y"
      }
    },
    {
      "cell_type": "markdown",
      "source": [
        "Q.11/ What is method overloading in Python ?  \n",
        "ANS:- Method overloading is when we have the multiple values with same name  but different parameters In many languages, but Python does not support overloading method directly .In Python we achieve overloading using default arguments or kwywords ."
      ],
      "metadata": {
        "id": "gLzPpTktDK7h"
      }
    },
    {
      "cell_type": "markdown",
      "source": [
        "Q.12/ What is method overriding in OOP ?  \n",
        "ANS:- Method overriding happens when a child class defines a method with the same name as a parent class method.In this case, the child class method replaces the parent method."
      ],
      "metadata": {
        "id": "XVpwJA_JFOry"
      }
    },
    {
      "cell_type": "markdown",
      "source": [
        "Q.13/ What is a property decorator in Python ?  \n",
        "ANS:- property decorator is used to define getter methods that can be accessed like attributes without parentheses .It allows controlled access to private attributes ."
      ],
      "metadata": {
        "id": "qIPlxO4oF-pf"
      }
    },
    {
      "cell_type": "markdown",
      "source": [
        "Q.14/ Why is polymorphism important in OOP ?  \n",
        "ANS:- Polymorphism is really important in oop because its Makes code more flexible,Increases reusability and Supports abstraction by letting us write general code for different object types."
      ],
      "metadata": {
        "id": "ASnrr4s5ePIb"
      }
    },
    {
      "cell_type": "markdown",
      "source": [
        "Q.15/ What is an abstract class in Python ?  \n",
        "ANS:- An abstract class is a blueprint for other classes, containing one or more abstract methods. It defines abstract methods that must be implemented by child classes."
      ],
      "metadata": {
        "id": "i7TtZU6Fg5dB"
      }
    },
    {
      "cell_type": "markdown",
      "source": [
        "Q.16/ What are the advantages of OOP ?  \n",
        "ANS:- The advantage of oop is that its make the code reusable and it seceure data handeling in classes. oops makes the code easy to update .\n",
        "\n"
      ],
      "metadata": {
        "id": "Ci_BmaJTiI8q"
      }
    },
    {
      "cell_type": "markdown",
      "source": [
        "Q.17/ What is the difference between a class variable and an instance variable ?  \n",
        "ANS:- The main difference between a class variable and an instance variable that A class variable is shared by all instance of a class and An instance variable is a variable that is unique to each instance (object) of a class ."
      ],
      "metadata": {
        "id": "VX4ifvo7nImI"
      }
    },
    {
      "cell_type": "markdown",
      "source": [
        "Q.18/ What is multiple inheritance in Python ?  \n",
        "ANS:- If A class can inherit from more than one parent class is called inheritance in python ."
      ],
      "metadata": {
        "id": "wubK5GQqqLpj"
      }
    },
    {
      "cell_type": "markdown",
      "source": [
        "Q.19/  Explain the purpose of ‘’__str__’ and ‘__repr__’ ‘ methods in Python ?  \n",
        "ANS:- super() is used to call parent class methods.\n",
        "Especially useful in inheritance to avoid rewriting code.\n"
      ],
      "metadata": {
        "id": "omMAbi69rBxD"
      }
    },
    {
      "cell_type": "markdown",
      "source": [
        "Q.20/ What is the significance of the ‘super()’ function in Python ?  \n",
        "ANS:- super() is used to call parent class methods.Especially useful in inheritance to avoid rewriting code ."
      ],
      "metadata": {
        "id": "84C7BKfPry6o"
      }
    },
    {
      "cell_type": "markdown",
      "source": [
        "Q.21/ What is the significance of the __del__ method in Python ?  \n",
        "ANS:-  The __del__ method in Python is a special method, known as a destructor, that is called when an object is about to be garbage collected or destroyed.  It is primarily used to perform cleanup operations before an object is removed from memory, such as closing file handles .\n"
      ],
      "metadata": {
        "id": "1wUUk_cCsS8M"
      }
    },
    {
      "cell_type": "markdown",
      "source": [
        "Q.22/ What is the difference between @staticmethod and @classmethod in Python ?   \n",
        "ANS :-  The main difference between staticmethod and classmethod is that staticmethod Does not take self or cls as the first parameter.Cannot access instance attributes or class attributes.Works like a normal function, just grouped inside a class  but in classmethod Takes cls as the first parameter\n",
        "Can access and modify class variables.Used when you want to work with class-level data."
      ],
      "metadata": {
        "id": "vNdUL2F4nPW3"
      }
    },
    {
      "cell_type": "markdown",
      "source": [
        "Q.23/ How does polymorphism work in Python with inheritance ?  \n",
        "ANS:- Polymorphism in Python, particularly with inheritance, allows objects of different classes to be treated as objects of a common superclass."
      ],
      "metadata": {
        "id": "8gNOwT2OqWfE"
      }
    },
    {
      "cell_type": "markdown",
      "source": [
        "Q.24/ What is method chaining in Python OOP ?  \n",
        "ANS:- Method chaining in Python OOP is when methods return self, allowing multiple method calls on the same object in a single statement."
      ],
      "metadata": {
        "id": "-J2FMU4ns1Hc"
      }
    },
    {
      "cell_type": "markdown",
      "source": [
        "Q.25/ What is the purpose of the __call__ method in Python ?  \n",
        "ANS:- The __call__ method makes a class instance callable like a function, allowing you to use obj() syntax."
      ],
      "metadata": {
        "id": "eG94cNEstZ1j"
      }
    },
    {
      "cell_type": "markdown",
      "source": [
        "**PRACTICE QUESTION **"
      ],
      "metadata": {
        "id": "4eMhCc8suota"
      }
    },
    {
      "cell_type": "markdown",
      "source": [
        "Q.1/ Create a parent class Animal with a method speak() that prints a generic message. Create a child class Dog\n",
        "that overrides the speak() method to print \"Bark!\"?"
      ],
      "metadata": {
        "id": "bPN-lZaeQy3Q"
      }
    },
    {
      "cell_type": "code",
      "source": [
        "class Animal:\n",
        "  def speak(self):\n",
        "    print(\"please dont hurt us\")\n",
        "\n",
        "class Dog(Animal):\n",
        "  def speak(self):\n",
        "    print(\"Bark!\")\n",
        "a = Animal()\n",
        "a.speak()\n",
        "d = Dog()\n",
        "d.speak()"
      ],
      "metadata": {
        "colab": {
          "base_uri": "https://localhost:8080/"
        },
        "id": "HptpgAJcQwzh",
        "outputId": "89c8705b-bd9c-4e22-f09b-228bdaf16f85"
      },
      "execution_count": null,
      "outputs": [
        {
          "output_type": "stream",
          "name": "stdout",
          "text": [
            "please dont hurt us\n",
            "Bark!\n"
          ]
        }
      ]
    },
    {
      "cell_type": "markdown",
      "source": [
        "Q.2/  Write a program to create an abstract class Shape with a method area(). Derive classes Circle and Rectangle\n",
        "from it and implement the area() method in both ?"
      ],
      "metadata": {
        "id": "xakcVlLbWl2R"
      }
    },
    {
      "cell_type": "code",
      "source": [
        "from abc import ABC, abstractmethod\n",
        "class Shape(ABC):\n",
        "    @abstractmethod\n",
        "    def area(self):\n",
        "        pass\n",
        "class Circle(Shape):\n",
        "    def __init__(self, radius):\n",
        "        self.radius = radius\n",
        "    def area(self):\n",
        "        return 3.14 * (self.radius ** 2)\n",
        "class Rectangle(Shape):\n",
        "    def __init__(self, length, width):\n",
        "        self.length = length\n",
        "        self.width = width\n",
        "    def area(self):\n",
        "        return self.length * self.width\n",
        "c = Circle(5)\n",
        "r = Rectangle(4, 6)\n",
        "print(\"Circle Area:\", c.area())\n",
        "print(\"Rectangle Area:\", r.area())"
      ],
      "metadata": {
        "colab": {
          "base_uri": "https://localhost:8080/"
        },
        "id": "qht8iLrJWwTX",
        "outputId": "ac6c4f73-ed8c-4566-f9e2-167785ec3b48"
      },
      "execution_count": null,
      "outputs": [
        {
          "output_type": "stream",
          "name": "stdout",
          "text": [
            "Circle Area: 78.5\n"
          ]
        }
      ]
    },
    {
      "cell_type": "markdown",
      "source": [
        "Q.3/  Implement a multi-level inheritance scenario where a class Vehicle has an attribute type. Derive a class Car\n",
        "and further derive a class ElectricCar that adds a battery attribute ?"
      ],
      "metadata": {
        "id": "Omj_DOBwbp__"
      }
    },
    {
      "cell_type": "code",
      "source": [
        "class Vehicle:\n",
        "    def __init__(self, vehicle_type):\n",
        "        self.type = vehicle_type\n",
        "class Car(Vehicle):\n",
        "    def __init__(self, vehicle_type, brand):\n",
        "        super().__init__(vehicle_type)\n",
        "        self.brand = brand\n",
        "class ElectricCar(Car):\n",
        "    def __init__(self, vehicle_type, brand, battery_capacity):\n",
        "        super().__init__(vehicle_type, brand)\n",
        "        self.battery = battery_capacity\n",
        "v = Vehicle(\"General Vehicle\")\n",
        "print(\"Vehicle Type:\", v.type)\n",
        "c = Car(\"Car\", \"Toyota\")\n",
        "print(\"Car Type:\", c.type, \"| Brand:\", c.brand)\n",
        "e = ElectricCar(\"Car\", \"Tesla\", \"85 kWh\")\n",
        "print(\"Electric Car Type:\", e.type, \"| Brand:\", e.brand, \"| Battery:\", e.battery)"
      ],
      "metadata": {
        "colab": {
          "base_uri": "https://localhost:8080/"
        },
        "id": "jFtL-qAxb0UV",
        "outputId": "02cf0fa1-bf4f-4e02-80b8-669bccd91e57"
      },
      "execution_count": null,
      "outputs": [
        {
          "output_type": "stream",
          "name": "stdout",
          "text": [
            "This is a General Vehicle\n",
            "This is a Toyota Car\n",
            "This is a Tesla Car with 85 kWh battery\n"
          ]
        }
      ]
    },
    {
      "cell_type": "markdown",
      "source": [
        "Q.4/  Demonstrate polymorphism by creating a base class Bird with a method fly(). Create two derived classes\n",
        "Sparrow and Penguin that override the fly() method ?"
      ],
      "metadata": {
        "id": "EvnhYhOxdMdm"
      }
    },
    {
      "cell_type": "code",
      "source": [
        "class Bird:\n",
        "    def fly(self):\n",
        "        print(\"Birds can usually fly\")\n",
        "class Sparrow(Bird):\n",
        "    def fly(self):\n",
        "        print(\"Sparrow flies high in the sky\")\n",
        "class Penguin(Bird):\n",
        "    def fly(self):\n",
        "        print(\"Penguins cannot fly, they swim instead\")\n",
        "birds = [Sparrow(), Penguin()]\n",
        "for b in birds:\n",
        "    b.fly()"
      ],
      "metadata": {
        "colab": {
          "base_uri": "https://localhost:8080/"
        },
        "id": "X-55Vy6ddTT8",
        "outputId": "ba7a89a1-6251-406b-8801-878fb0746be8"
      },
      "execution_count": null,
      "outputs": [
        {
          "output_type": "stream",
          "name": "stdout",
          "text": [
            "Sparrow flies high in the sky\n"
          ]
        }
      ]
    },
    {
      "cell_type": "markdown",
      "source": [
        "Q.5/ Write a program to demonstrate encapsulation by creating a class BankAccount with private attributes\n",
        "balance and methods to deposit, withdraw, and check balance ?"
      ],
      "metadata": {
        "id": "qya8IgL8fGas"
      }
    },
    {
      "cell_type": "code",
      "source": [
        "class BankAccount:\n",
        "    def __init__(self, balance=0):\n",
        "        self.__balance = balance\n",
        "    def deposit(self, amount):\n",
        "        if amount > 0:\n",
        "            self.__balance += amount\n",
        "            print(f\"Deposited: {amount}\")\n",
        "        else:\n",
        "            print(\"Invalid deposit amount!\")\n",
        "    def withdraw(self, amount):\n",
        "        if 0 < amount <= self.__balance:\n",
        "            self.__balance -= amount\n",
        "            print(f\"Withdrawn: {amount}\")\n",
        "        else:\n",
        "            print(\"Insufficient balance or invalid amount!\")\n",
        "    def check_balance(self):\n",
        "        print(f\"Current Balance: {self.__balance}\")\n",
        "account = BankAccount(1000)\n",
        "account.deposit(500)\n",
        "account.withdraw(300)\n",
        "account.check_balance()"
      ],
      "metadata": {
        "colab": {
          "base_uri": "https://localhost:8080/"
        },
        "id": "cIBWJ40_fOvk",
        "outputId": "e5be9d04-007b-42ec-82b8-ea9156fb9c90"
      },
      "execution_count": null,
      "outputs": [
        {
          "output_type": "stream",
          "name": "stdout",
          "text": [
            "Deposited: 500\n",
            "Withdrawn: 300\n",
            "Current Balance: 1200\n"
          ]
        }
      ]
    },
    {
      "cell_type": "markdown",
      "source": [
        "Q.6/  Demonstrate runtime polymorphism using a method play() in a base class Instrument. Derive classes Guitar\n",
        "and Piano that implement their own version of play() ?"
      ],
      "metadata": {
        "id": "J2E_7vdQgfSQ"
      }
    },
    {
      "cell_type": "code",
      "source": [
        "class Instrument :\n",
        "       def play(self):\n",
        "        print(\" i creat music\")\n",
        "class Guitar(Instrument):\n",
        "    def play(self):\n",
        "        print(\" guiter : i make background music\")\n",
        "class  Piano(Instrument):\n",
        "    def play(self):\n",
        "        print(\"Piano : i make movies more dramatic\")\n",
        "music=[Guitar(),Piano()]\n",
        "for instrument in music:\n",
        "    instrument.play()"
      ],
      "metadata": {
        "colab": {
          "base_uri": "https://localhost:8080/"
        },
        "id": "3sHOfkljgplg",
        "outputId": "0c92f60e-df6f-47ea-bfbc-75f7b2f4a056"
      },
      "execution_count": null,
      "outputs": [
        {
          "output_type": "stream",
          "name": "stdout",
          "text": [
            " guiter : i make background music\n",
            "Piano : i make movies more dramatic\n"
          ]
        }
      ]
    },
    {
      "cell_type": "markdown",
      "source": [
        "Q.7/  Create a class MathOperations with a class method add_numbers() to add two numbers and a static\n",
        "method subtract_numbers() to subtract two numbers ?"
      ],
      "metadata": {
        "id": "ApkM9BkvlAfI"
      }
    },
    {
      "cell_type": "code",
      "source": [
        "class MathOperations:\n",
        "    @classmethod\n",
        "    def add_numbers(self, a, b):\n",
        "        return a + b\n",
        "    @staticmethod\n",
        "    def subtract_numbers(a, b):\n",
        "        return a - b\n",
        "print(\"Addition:\", MathOperations.add_numbers(10, 5))\n",
        "print(\"Subtraction:\", MathOperations.subtract_numbers(10, 5))\n"
      ],
      "metadata": {
        "colab": {
          "base_uri": "https://localhost:8080/"
        },
        "id": "R992eqOElM-a",
        "outputId": "640a2f17-26a3-4302-c484-49650d645d51"
      },
      "execution_count": null,
      "outputs": [
        {
          "output_type": "stream",
          "name": "stdout",
          "text": [
            "Addition: 15\n",
            "Subtraction: 5\n"
          ]
        }
      ]
    },
    {
      "cell_type": "markdown",
      "source": [
        "Q.8/  Implement a class Person with a class method to count the total number of persons created ?"
      ],
      "metadata": {
        "id": "5234vVB5rDUJ"
      }
    },
    {
      "cell_type": "code",
      "source": [
        "class Person:\n",
        "    count = 0\n",
        "    def __init__(self, name):\n",
        "        self.name = name\n",
        "        Person.count += 1\n",
        "    @classmethod\n",
        "    def total_persons(cls):\n",
        "        return cls.count\n",
        "p1 = Person(\"Soumya\")\n",
        "p2 = Person(\"Rahul\")\n",
        "p3 = Person(\"Ananya\")\n",
        "print(\"Total persons created:\", Person.total_persons())"
      ],
      "metadata": {
        "colab": {
          "base_uri": "https://localhost:8080/"
        },
        "id": "tBiBMTBPrP8a",
        "outputId": "3b6ac6c3-3af8-4bce-98b1-a63728b6f9e3"
      },
      "execution_count": null,
      "outputs": [
        {
          "output_type": "stream",
          "name": "stdout",
          "text": [
            "Total persons created: 3\n"
          ]
        }
      ]
    },
    {
      "cell_type": "markdown",
      "source": [
        "Q.9/ Write a class Fraction with attributes numerator and denominator. Override the str method to display the\n",
        "fraction as \"numerator/denominator\" ?  "
      ],
      "metadata": {
        "id": "dHnkoZa5r6Wx"
      }
    },
    {
      "cell_type": "code",
      "source": [
        "class Fraction:\n",
        "    def __init__(self, numerator, denominator):\n",
        "        self.numerator = numerator\n",
        "        self.denominator = denominator\n",
        "    def __str__(self):\n",
        "        return f\"{self.numerator}/{self.denominator}\"\n",
        "f1 = Fraction(3, 4)\n",
        "f2 = Fraction(5, 7)\n",
        "print(f1)\n",
        "print(f2)"
      ],
      "metadata": {
        "colab": {
          "base_uri": "https://localhost:8080/"
        },
        "id": "xLkAzL46sB_N",
        "outputId": "a2bd85b6-9c42-411a-cae6-57dcf51cac69"
      },
      "execution_count": null,
      "outputs": [
        {
          "output_type": "stream",
          "name": "stdout",
          "text": [
            "3/4\n",
            "5/7\n"
          ]
        }
      ]
    },
    {
      "cell_type": "markdown",
      "source": [
        "Q.10/ Demonstrate operator overloading by creating a class Vector and overriding the add method to add two\n",
        "vectors ?"
      ],
      "metadata": {
        "id": "a1OjWJ-bttv2"
      }
    },
    {
      "cell_type": "code",
      "source": [
        "class Vector:\n",
        "    def __init__(self, x, y):\n",
        "        self.x = x\n",
        "        self.y = y\n",
        "    def __add__(self, other):\n",
        "        return Vector(self.x + other.x, self.y + other.y)\n",
        "    def __str__(self):\n",
        "        return f\"Vector({self.x}, {self.y})\"\n",
        "v1 = Vector(2, 4)\n",
        "v2 = Vector(5, 7)\n",
        "v3 = v1 + v2\n",
        "print(\"v1 =\", v1)\n",
        "print(\"v2 =\", v2)\n",
        "print(\"v1 + v2 =\", v3)"
      ],
      "metadata": {
        "colab": {
          "base_uri": "https://localhost:8080/"
        },
        "id": "_OsQLHgIt9r2",
        "outputId": "fa00850a-17da-4ce9-d44b-fa4d4bbade82"
      },
      "execution_count": null,
      "outputs": [
        {
          "output_type": "stream",
          "name": "stdout",
          "text": [
            "v1 = Vector(2, 4)\n",
            "v2 = Vector(5, 7)\n",
            "v1 + v2 = Vector(7, 11)\n"
          ]
        }
      ]
    },
    {
      "cell_type": "markdown",
      "source": [
        "Q.11/  Create a class Person with attributes name and age. Add a method greet() that prints \"Hello, my name is\n",
        "{name} and I am {age} years old ?"
      ],
      "metadata": {
        "id": "IfqTch1ovdiH"
      }
    },
    {
      "cell_type": "code",
      "source": [
        "class Person:\n",
        "    def __init__(self, name, age):\n",
        "        self.name = name\n",
        "        self.age = age\n",
        "    def greet(self):\n",
        "        return f\"Hello, my name is {self.name} and I am {self.age} years old.\"\n",
        "p1 = Person(\"Soumya\", 20)\n",
        "print(p1.greet())"
      ],
      "metadata": {
        "colab": {
          "base_uri": "https://localhost:8080/"
        },
        "id": "ajELFGiNvuk-",
        "outputId": "998cc7bd-42f5-4038-cae4-74fcca696eed"
      },
      "execution_count": null,
      "outputs": [
        {
          "output_type": "stream",
          "name": "stdout",
          "text": [
            "Hello, my name is Soumya and I am 20 years old.\n"
          ]
        }
      ]
    },
    {
      "cell_type": "markdown",
      "source": [
        "Q.12/ Implement a class Student with attributes name and grades.\n",
        "Create a method average_grade() to compute\n",
        "the average of the grades ?"
      ],
      "metadata": {
        "id": "HTvyas8UzKsc"
      }
    },
    {
      "cell_type": "code",
      "source": [
        "class Student:\n",
        "    def __init__(self, name, grades):\n",
        "        self.name = name\n",
        "        self.grades = grades\n",
        "    def average_grade(self):\n",
        "        if len(self.grades) == 0:\n",
        "            return 0\n",
        "        return sum(self.grades) / len(self.grades)\n",
        "s1 = Student(\"Soumya\", [85, 90, 78, 92])\n",
        "s2 = Student(\"Rahul\", [70, 75, 80])\n",
        "print(f\"{s1.name}'s average grade:\", s1.average_grade())\n",
        "print(f\"{s2.name}'s average grade:\", s2.average_grade())"
      ],
      "metadata": {
        "colab": {
          "base_uri": "https://localhost:8080/"
        },
        "id": "Lb3c5UgwzOBf",
        "outputId": "705e19c8-adb8-4360-c579-50bd702eb056"
      },
      "execution_count": null,
      "outputs": [
        {
          "output_type": "stream",
          "name": "stdout",
          "text": [
            "Soumya's average grade: 86.25\n",
            "Rahul's average grade: 75.0\n"
          ]
        }
      ]
    },
    {
      "cell_type": "markdown",
      "source": [
        "Q.13/  Create a class Rectangle with methods set_dimensions() to set the dimensions and area() to calculate the\n",
        "area ?"
      ],
      "metadata": {
        "id": "SVycEBsQ00el"
      }
    },
    {
      "cell_type": "code",
      "source": [
        "class Rectangle:\n",
        "    def __init__(self):\n",
        "        self.length = 0\n",
        "        self.width = 0\n",
        "    def set_dimensions(self, length, width):\n",
        "        self.length = length\n",
        "        self.width = width\n",
        "    def area(self):\n",
        "        return self.length * self.width\n",
        "l = int(input(\"Enter the length of rectangle: \"))\n",
        "w = int(input(\"Enter the width of rectangle: \"))\n",
        "rect = Rectangle()\n",
        "rect.set_dimensions(l, w)\n",
        "print(\"Area of rectangle:\", rect.area())"
      ],
      "metadata": {
        "id": "RFcMs5Gr08H0"
      },
      "execution_count": null,
      "outputs": []
    },
    {
      "cell_type": "markdown",
      "source": [
        "Q.14/Create a class Employee with a method calculate_salary() that computes the salary based on hours worked\n",
        "and hourly rate. Create a derived class Manager that adds a bonus to the salary ?"
      ],
      "metadata": {
        "id": "mwWvOC4Tax0K"
      }
    },
    {
      "cell_type": "code",
      "source": [
        "from abc import ABC, abstractmethod\n",
        "class Employee(ABC):\n",
        "    def __init__(self, name, hours_worked, hourly_rate):\n",
        "        self.name = name\n",
        "        self.hours_worked = hours_worked\n",
        "        self.hourly_rate = hourly_rate\n",
        "    @abstractmethod\n",
        "    def calculate_salary(self):\n",
        "        pass\n",
        "class Manager(Employee):\n",
        "    def __init__(self, name, hours_worked, hourly_rate, bonus):\n",
        "        super().__init__(name, hours_worked, hourly_rate)\n",
        "        self.bonus = bonus\n",
        "\n",
        "    def calculate_salary(self):\n",
        "        base_salary = self.hours_worked * self.hourly_rate\n",
        "        return base_salary + self.bonus\n",
        "m = Manager(\"Soumya\", 160, 100, 5000)\n",
        "print(f\"{m.name}'s Salary: {m.calculate_salary()}\")\n"
      ],
      "metadata": {
        "colab": {
          "base_uri": "https://localhost:8080/"
        },
        "id": "wg9l56Sva3uv",
        "outputId": "ae2f91ab-1377-4f2a-dac6-10d5a40ee828"
      },
      "execution_count": null,
      "outputs": [
        {
          "output_type": "stream",
          "name": "stdout",
          "text": [
            "Soumya's Salary: 21000\n"
          ]
        }
      ]
    },
    {
      "cell_type": "markdown",
      "source": [
        "Q.15/ Create a class Product with attributes name, price, and quantity. Implement a method total_price() that\n",
        "calculates the total price of the product ?"
      ],
      "metadata": {
        "id": "qcL9wQ08cc9X"
      }
    },
    {
      "cell_type": "code",
      "source": [
        "class Product:\n",
        "    def __init__(self, name, price, quantity):\n",
        "        self.name = name\n",
        "        self.price = price\n",
        "        self.quantity = quantity\n",
        "    def total_price(self):\n",
        "        return self.price * self.quantity\n",
        "p1 = Product(\"Laptop\", 50000, 2)\n",
        "p2 = Product(\"Headphones\", 1500, 3)\n",
        "\n",
        "print(f\"{p1.name} total price: ₹{p1.total_price()}\")\n",
        "print(f\"{p2.name} total price: ₹{p2.total_price()}\")\n"
      ],
      "metadata": {
        "colab": {
          "base_uri": "https://localhost:8080/"
        },
        "id": "UNYS1F49cuy4",
        "outputId": "8f8a1bcb-8b5a-49d6-d7ea-7ff9f25fe543"
      },
      "execution_count": null,
      "outputs": [
        {
          "output_type": "stream",
          "name": "stdout",
          "text": [
            "Laptop total price: ₹100000\n",
            "Headphones total price: ₹4500\n"
          ]
        }
      ]
    },
    {
      "cell_type": "markdown",
      "source": [
        "Q.16/ Create a class Animal with an abstract method sound(). Create two derived classes Cow and Sheep that\n",
        "implement the sound() method ?"
      ],
      "metadata": {
        "id": "7QSWKi1zddnX"
      }
    },
    {
      "cell_type": "code",
      "source": [
        "from abc import ABC, abstractmethod\n",
        "class Animal(ABC):\n",
        "    @abstractmethod\n",
        "    def sound(self):\n",
        "        pass\n",
        "class Cow(Animal):\n",
        "    def sound(self):\n",
        "        return \"Moo Moo\"\n",
        "class Sheep(Animal):\n",
        "    def sound(self):\n",
        "        return \"Baa Baa\"\n",
        "cow = Cow()\n",
        "sheep = Sheep()\n",
        "print(\"Cow Sound:\", cow.sound())\n",
        "print(\"Sheep Sound:\", sheep.sound())"
      ],
      "metadata": {
        "colab": {
          "base_uri": "https://localhost:8080/"
        },
        "id": "2kPad0DneKsw",
        "outputId": "f7498d8c-b8ae-4f7c-f17d-bf66cf7ecf9b"
      },
      "execution_count": null,
      "outputs": [
        {
          "output_type": "stream",
          "name": "stdout",
          "text": [
            "Cow Sound: Moo Moo\n",
            "Sheep Sound: Baa Baa\n"
          ]
        }
      ]
    },
    {
      "cell_type": "markdown",
      "source": [
        "Q.17/  Create a class Book with attributes title, author, and year_published. Add a method get_book_info() that\n",
        "returns a formatted string with the book's details ?"
      ],
      "metadata": {
        "id": "8bJyjFJ4e9Gn"
      }
    },
    {
      "cell_type": "code",
      "source": [
        "class Book:\n",
        "    def __init__(self, title, author, year_published):\n",
        "        self.title = title\n",
        "        self.author = author\n",
        "        self.year_published = year_published\n",
        "    def get_book_info(self):\n",
        "        return f\"Title: {self.title}\\nAuthor: {self.author}\\nYear Published: {self.year_published}\"\n",
        "b1 = Book(\"The Alchemist\", \"Paulo Coelho\", 1988)\n",
        "b2 = Book(\"1984\", \"George Orwell\", 1949)\n",
        "print(b1.get_book_info())\n",
        "print(\"--------------\")\n",
        "print(b2.get_book_info())"
      ],
      "metadata": {
        "colab": {
          "base_uri": "https://localhost:8080/"
        },
        "id": "qn8wsrjofKtv",
        "outputId": "778166a2-d788-46b2-b897-b56d04895487"
      },
      "execution_count": null,
      "outputs": [
        {
          "output_type": "stream",
          "name": "stdout",
          "text": [
            "Title: The Alchemist\n",
            "Author: Paulo Coelho\n",
            "Year Published: 1988\n",
            "--------------\n",
            "Title: 1984\n",
            "Author: George Orwell\n",
            "Year Published: 1949\n"
          ]
        }
      ]
    },
    {
      "cell_type": "markdown",
      "source": [
        "Q.18/ Create a class House with attributes address and price. Create a derived class Mansion that adds an\n",
        "attribute number_of_rooms ?"
      ],
      "metadata": {
        "id": "ekfho4exf1lP"
      }
    },
    {
      "cell_type": "code",
      "source": [
        "class House:\n",
        "    def __init__(self, address, price):\n",
        "        self.address = address\n",
        "        self.price = price\n",
        "class Mansion(House):\n",
        "    def __init__(self, address, price, number_of_rooms):\n",
        "        super().__init__(address, price)\n",
        "        self.number_of_rooms = number_of_rooms\n",
        "m1 = Mansion(\"Park Street, Kolkata\", 50000000, 12)\n",
        "print(\"Address:\", m1.address)\n",
        "print(\"Price:\", m1.price)\n",
        "print(\"Number of Rooms:\", m1.number_of_rooms)"
      ],
      "metadata": {
        "colab": {
          "base_uri": "https://localhost:8080/"
        },
        "id": "pWc1RDcigAJ_",
        "outputId": "f05b8a64-3c2a-4ab1-f64a-27a888bc274c"
      },
      "execution_count": null,
      "outputs": [
        {
          "output_type": "stream",
          "name": "stdout",
          "text": [
            "Address: Park Street, Kolkata\n",
            "Price: 50000000\n",
            "Number of Rooms: 12\n"
          ]
        }
      ]
    }
  ]
}