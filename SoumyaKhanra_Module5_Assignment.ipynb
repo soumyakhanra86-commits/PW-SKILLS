{
  "nbformat": 4,
  "nbformat_minor": 0,
  "metadata": {
    "colab": {
      "provenance": []
    },
    "kernelspec": {
      "name": "python3",
      "display_name": "Python 3"
    },
    "language_info": {
      "name": "python"
    }
  },
  "cells": [
    {
      "cell_type": "markdown",
      "source": [
        "**Files, exceptional handling, logging and\n",
        "memory management Questions text**"
      ],
      "metadata": {
        "id": "FnCXfLfAEXTM"
      }
    },
    {
      "cell_type": "markdown",
      "source": [
        "Q.1/ What is the difference between interpreted and compiled languages ?  \n",
        "ANS:- The main difference between interoreted and complied language is that complied language are converted into machine code before execution also its faster execution process and interpreted language are translated line by line during runtime ,which makes them comparatively slower ."
      ],
      "metadata": {
        "id": "OBRDo4C0l8cg"
      }
    },
    {
      "cell_type": "markdown",
      "source": [
        "Q.2/ What is exception handling in Python ?  \n",
        "ANS:- Exception handling is a special way to deal erros in python , so our code does not get crashed . we can use special keyword like try,except,finally for exception handling ."
      ],
      "metadata": {
        "id": "DPBH8_xCpyKg"
      }
    },
    {
      "cell_type": "markdown",
      "source": [
        "Q.3/ What is the purpose of the finally block in exception handling ?  \n",
        "ANS:- The finally block in Python is used to write code that should run no matter what happens — whether an exception occurs or not.It is mainly used for cleanup tasks like closing a file, releasing resources, or ending a database connection."
      ],
      "metadata": {
        "id": "co_jYraQsdoY"
      }
    },
    {
      "cell_type": "markdown",
      "source": [
        "Q.4/ What is logging in Python ?  \n",
        "ANS:- Logging is a special method in python , it can procces reloading message like errors, warnings, or normal execution details ."
      ],
      "metadata": {
        "id": "ZXuMvlges8Mg"
      }
    },
    {
      "cell_type": "markdown",
      "source": [
        "Q.5/  What is the significance of the __del__ method in Python ?  \n",
        "ANS:- Del method is the special method in python which use for clean up task when an object is deleted from memory."
      ],
      "metadata": {
        "id": "UkezyYIatzUU"
      }
    },
    {
      "cell_type": "markdown",
      "source": [
        "Q.6/What is the difference between import and from ... import in Python ?  \n",
        "ANS:- import module Imports the entire module, and we must use the module name to access its functions or classes.from module import name Imports only a specific function/class/variable from the module, and it can be used directly without the module name ."
      ],
      "metadata": {
        "id": "gZ7c6iYrv59K"
      }
    },
    {
      "cell_type": "markdown",
      "source": [
        "Q.7 How can you handle multiple exceptions in Python ?  \n",
        "ANS:- we can handel multiple expections in python by using key-word like try,except, etc ."
      ],
      "metadata": {
        "id": "PAVtQeUOz60S"
      }
    },
    {
      "cell_type": "markdown",
      "source": [
        "Q.8/ What is the purpose of the with statement when handling files in Python ?  \n",
        "ANS:- The with statement in Python is used for resource management . It can manage files safely and automatically close them after use"
      ],
      "metadata": {
        "id": "axwmtawW1RaZ"
      }
    },
    {
      "cell_type": "markdown",
      "source": [
        "Q.9/ What is the difference between multithreading and multiprocessing ?  \n",
        "ANS:- Multithreading  Uses multiple threads within a single process. Threads share the same memory, so it is lightweight but less stable if not handled properly.\n",
        "\n",
        "Multiprocessing  Uses multiple separate processes. Each process has its own memory, making it more powerful and stable but heavier."
      ],
      "metadata": {
        "id": "9t2exOzV1_9L"
      }
    },
    {
      "cell_type": "markdown",
      "source": [
        "Q.10/ What are the advantages of using logging in a program ?  \n",
        "ANS:- Logging in Python is better than print() because it helps to track errors, warnings, and program flow. It supports different log levels, can save logs to files, and makes debugging and monitoring easier ."
      ],
      "metadata": {
        "id": "2KnfQbtF4BE7"
      }
    },
    {
      "cell_type": "markdown",
      "source": [
        "Q.11/ What is memory management in Python ?  \n",
        "ANS:- Memory management in Python is the process of allocating and releasing memory automatically while a program runs.\n",
        "\n",
        "Python has a built-in garbage collector that removes unused objects to free up memory.\n",
        "It also uses reference counting to keep track of how many variables point to an object."
      ],
      "metadata": {
        "id": "tkCeFRcD1yf5"
      }
    },
    {
      "cell_type": "markdown",
      "source": [
        "Q.12/ What are the basic steps involved in exception handling in Python ?  \n",
        "ANS:- The basic steps in exception handling are:\n",
        "\n",
        "try block - Write the code that may cause an error.\n",
        "except block - Handle the error if it occurs.\n",
        "else block - Runs if no error occurs.\n",
        "finally block - Runs always, for cleanup tasks."
      ],
      "metadata": {
        "id": "pxIvDdR44xqz"
      }
    },
    {
      "cell_type": "markdown",
      "source": [
        "Q.13/ Why is memory management important in Python ?  \n",
        "ANS:- Memory management in Python is important because it ensures efficient use of RAM, prevents memory leaks, and makes programs run faster and more reliably."
      ],
      "metadata": {
        "id": "w504YXrJT5c7"
      }
    },
    {
      "cell_type": "markdown",
      "source": [
        "Q.14/ What is the role of try and except in exception handling ?  \n",
        "ANS:- In python try and except are core building blocks for exception handling ,their role is to prevent the programm from csshing when an error occurs and instead handle it gracefully . In try block we the put risky code there and the\n",
        "except block handle the error if it happens."
      ],
      "metadata": {
        "id": "xq7mSCvAV8eb"
      }
    },
    {
      "cell_type": "markdown",
      "source": [
        "Q.15/ How does Python's garbage collection system work ?  \n",
        "ANS:- Python gaebage collection system is responsible for freeing up memory by removing objects that are no longer use . Python's garbage collection system is a two-part process that automatically manages memory to prevent leaks and improve efficiency. It primarily relies to cyclic garbage collector to handle more complex scenarios ."
      ],
      "metadata": {
        "id": "5yXporvOZJki"
      }
    },
    {
      "cell_type": "markdown",
      "source": [
        "Q.16/ What is the purpose of the else block in exception handling ?  \n",
        "ANS:-  The else block in a (try...except) statement is used to execute code that should only run if the code in the try block succeeds without raising an exception. Its primary purpose is to clearly separate the logic that might fail from the logic that depends on a successful outcome, improving code readability ."
      ],
      "metadata": {
        "id": "wlB7FHb-a0nE"
      }
    },
    {
      "cell_type": "markdown",
      "source": [
        "Q.17/ What are the common logging levels in Python ?  \n",
        "ANS:- The common logging levels in python are actually warning ,debug ,info etc."
      ],
      "metadata": {
        "id": "4h-8oFNCb9rj"
      }
    },
    {
      "cell_type": "markdown",
      "source": [
        "Q.18/ What is the difference between os.fork() and multiprocessing in Python ?  \n",
        "ANS:- The main difference between os .forka() and multiprocessing is that, os.fork () is a low-level system call available only on Unix/Linux and the multiprocess is a high-level Python module that allows process creation in a platform-independent way ."
      ],
      "metadata": {
        "id": "iuLZ7d0edmx7"
      }
    },
    {
      "cell_type": "markdown",
      "source": [
        "Q.19/ What is the importance of closing a file in Python ?  \n",
        "ANS:- The importance of closing a file in python is  to  \n",
        "1/Save data,   \n",
        "2/Prevent corruption,  \n",
        "3/Avoid future access issues"
      ],
      "metadata": {
        "id": "RWl24nGsgqUt"
      }
    },
    {
      "cell_type": "markdown",
      "source": [
        "Q.20/ What is the difference between file.read() and file.readline() in Python ?  \n",
        "ANS:- The main differnce between file.read() and file.readline() is that ,when we want to read the entire file ,we can use file.read() method but when we want to read the file line by line we can use file.readline() method ."
      ],
      "metadata": {
        "id": "nop7DY1jl7UA"
      }
    },
    {
      "cell_type": "markdown",
      "source": [
        "Q.21/ What is the logging module in Python used for ?  \n",
        "ANS:- The logging module is used to:\n",
        "\n",
        "Record program events, errors, and debugging info.  \n",
        "Replace print with a professional logging system."
      ],
      "metadata": {
        "id": "Cw3BHAMQnutH"
      }
    },
    {
      "cell_type": "markdown",
      "source": [
        "Q.22/ What is the os module in Python used for in file handling ?  \n",
        "ANS:-  The os module in Python is a built-in module that provides functions to interact with the operating system.When it comes to file handling, the os module is very useful, it can -  \n",
        "1/Create, remove, rename files and folders  \n",
        "2/Check file/directory existence and properties  \n",
        "3/List and manage file structures"
      ],
      "metadata": {
        "id": "JzOZCPxJoV29"
      }
    },
    {
      "cell_type": "markdown",
      "source": [
        "Q.23/ What are the challenges associated with memory management in Python ?  \n",
        "ANS:- Challenges in Python memory management include -\n",
        "\n",
        "Cyclic references  \n",
        "Memory leaks  \n",
        "High memory usage for large datasets  \n",
        "Memory fragmentation  \n",
        "Garbage collector overhead  \n",
        "GIL limitations  \n",
        "Developers not managing references properly"
      ],
      "metadata": {
        "id": "vDRHtE9yCJbs"
      }
    },
    {
      "cell_type": "markdown",
      "source": [
        "Q.24/ How do you raise an exception manually in Python ?  \n",
        "ANS:- In Python, you can raise an exception manually using the raise keyword.\n",
        "This is useful when you want to signal that something went wrong, even if Python itself doesn’t throw an error automatically."
      ],
      "metadata": {
        "id": "KWzKBTdIDP-S"
      }
    },
    {
      "cell_type": "markdown",
      "source": [
        "Q.25/ Why is it important to use multithreading in certain applications ?  \n",
        "ANS:-  Multithreading is important because it:-\n",
        "\n",
        "Keeps applications responsive  \n",
        "Handles I/O-bound tasks efficiently  \n",
        "Allows concurrent execution of tasks  \n",
        "Simplifies resource sharing within a program"
      ],
      "metadata": {
        "id": "PI2sqq5sDymZ"
      }
    },
    {
      "cell_type": "markdown",
      "source": [
        "**PRACTICE QUESTION**"
      ],
      "metadata": {
        "id": "3xECY5uEP2RF"
      }
    },
    {
      "cell_type": "markdown",
      "source": [
        "Q.1/ How can you open a file for writing in Python and write a string to it ?"
      ],
      "metadata": {
        "id": "ae2_XpZuP8sN"
      }
    },
    {
      "cell_type": "code",
      "source": [
        "with open(\"assignment.txt\", \"w\") as file:\n",
        "    file.write(\"This is my assignment content.\\n\")\n"
      ],
      "metadata": {
        "id": "8nhGvQP6QHl7"
      },
      "execution_count": 23,
      "outputs": []
    },
    {
      "cell_type": "markdown",
      "source": [
        "Q.2/ Write a Python program to read the contents of a file and print each line ?"
      ],
      "metadata": {
        "id": "7vGSjKQDQ6TO"
      }
    },
    {
      "cell_type": "code",
      "source": [
        "try :\n",
        " with open(\"assignment.txt\", \"r\") as file:\n",
        "    for line in file:\n",
        "        print(line, end='')\n",
        "except FileNotFoundError:\n",
        "    print(\"Error: The file does not exist.\")"
      ],
      "metadata": {
        "colab": {
          "base_uri": "https://localhost:8080/",
          "height": 0
        },
        "id": "uiwjKl0jRKLF",
        "outputId": "ad7e3a75-95b5-4c61-d03c-bf106aaa06ba"
      },
      "execution_count": 24,
      "outputs": [
        {
          "output_type": "stream",
          "name": "stdout",
          "text": [
            "This is my assignment content.\n"
          ]
        }
      ]
    },
    {
      "cell_type": "markdown",
      "source": [
        "Q.3/ How would you handle a case where the file doesn't exist while trying to open it for reading ?"
      ],
      "metadata": {
        "id": "DF4jZf3jRi7-"
      }
    },
    {
      "cell_type": "code",
      "source": [
        "try:\n",
        "    with open(\"srouce.txt\", \"r\") as file:\n",
        "        for line in file:\n",
        "            print(line, end='')\n",
        "except FileNotFoundError:\n",
        "    print(\"Error: The file does not exist.\")\n"
      ],
      "metadata": {
        "colab": {
          "base_uri": "https://localhost:8080/",
          "height": 0
        },
        "id": "x-eQlSNSRrNc",
        "outputId": "0da656ff-1f29-42b0-8220-e0ba5bcfe52a"
      },
      "execution_count": 29,
      "outputs": [
        {
          "output_type": "stream",
          "name": "stdout",
          "text": [
            "Error: The file does not exist.\n"
          ]
        }
      ]
    },
    {
      "cell_type": "markdown",
      "source": [
        "Q.4/  Write a Python script that reads from one file and writes its content to another file ?"
      ],
      "metadata": {
        "id": "8dHxlspXSExF"
      }
    },
    {
      "cell_type": "code",
      "source": [
        "with open(\"assignment.txt\", \"r\") as source_file:\n",
        "        content = source_file.read()\n",
        "with open(\"destination.txt\", \"w\") as dest_file:\n",
        "        dest_file.write(content)\n",
        "print(\"Content copied successfully!\")\n"
      ],
      "metadata": {
        "colab": {
          "base_uri": "https://localhost:8080/",
          "height": 0
        },
        "id": "2kH_O9cQSnh7",
        "outputId": "9acbd75b-913b-4dad-9589-d31a3cf0b6e3"
      },
      "execution_count": 30,
      "outputs": [
        {
          "output_type": "stream",
          "name": "stdout",
          "text": [
            "Content copied successfully!\n"
          ]
        }
      ]
    },
    {
      "cell_type": "markdown",
      "source": [
        "Q.5/ How would you catch and handle division by zero error in Python ?"
      ],
      "metadata": {
        "id": "9BeQTXxPT8Vl"
      }
    },
    {
      "cell_type": "code",
      "source": [
        "try:\n",
        "    numerator = 10\n",
        "    denominator = 0\n",
        "    result = numerator / denominator\n",
        "    print(\"Result:\", result)\n",
        "except ZeroDivisionError:\n",
        "    print(\"Error: Cannot divide by zero.\")"
      ],
      "metadata": {
        "colab": {
          "base_uri": "https://localhost:8080/",
          "height": 0
        },
        "id": "4Bi4WF0yUCoG",
        "outputId": "a29d904a-7f39-4339-fb82-586a425c56b5"
      },
      "execution_count": 22,
      "outputs": [
        {
          "output_type": "stream",
          "name": "stdout",
          "text": [
            "Error: Cannot divide by zero.\n"
          ]
        }
      ]
    },
    {
      "cell_type": "markdown",
      "source": [
        "Q.6/ Write a Python program that logs an error message to a log file when a division by zero exception occurs ?"
      ],
      "metadata": {
        "id": "uTT-qlTqUVQe"
      }
    },
    {
      "cell_type": "code",
      "source": [
        "import logging\n",
        "logging.basicConfig(filename=\"error_log.txt\", level=logging.ERROR,\n",
        "                    format=\"%(asctime)s - %(levelname)s - %(message)s\")\n",
        "try:\n",
        "    numerator = 10\n",
        "    denominator = 0\n",
        "    result = numerator / denominator\n",
        "    print(\"Result:\", result)\n",
        "except ZeroDivisionError:\n",
        "    logging.error(\"Division by zero occurred!\")\n",
        "    print(\"Error: Division by zero. Check log file for details.\")"
      ],
      "metadata": {
        "colab": {
          "base_uri": "https://localhost:8080/",
          "height": 0
        },
        "id": "1fDSPB9rUgEE",
        "outputId": "fbf0c961-4018-4a0d-caa3-66c885f80680"
      },
      "execution_count": 12,
      "outputs": [
        {
          "output_type": "stream",
          "name": "stderr",
          "text": [
            "ERROR:root:Division by zero occurred!\n"
          ]
        },
        {
          "output_type": "stream",
          "name": "stdout",
          "text": [
            "Error: Division by zero. Check log file for details.\n"
          ]
        }
      ]
    },
    {
      "cell_type": "markdown",
      "source": [
        "Q.7/How do you log information at different levels (INFO, ERROR, WARNING) in Python using the logging module ?"
      ],
      "metadata": {
        "id": "V0o_2wcuVQ8c"
      }
    },
    {
      "cell_type": "code",
      "source": [
        "import logging\n",
        "logging.basicConfig(filename=\"app_log.txt\", level=logging.INFO,\n",
        "                    format=\"%(levelname)s - %(message)s\")\n",
        "logging.info(\"This is an info message.\")\n",
        "logging.warning(\"This is a warning message.\")\n",
        "logging.error(\"This is an error message.\")\n"
      ],
      "metadata": {
        "colab": {
          "base_uri": "https://localhost:8080/",
          "height": 0
        },
        "id": "f6WyOte3VMeN",
        "outputId": "466314c4-0b4c-4077-ec92-92f0854ac0f7"
      },
      "execution_count": 11,
      "outputs": [
        {
          "output_type": "stream",
          "name": "stderr",
          "text": [
            "WARNING:root:This is a warning message.\n",
            "ERROR:root:This is an error message.\n"
          ]
        }
      ]
    },
    {
      "cell_type": "markdown",
      "source": [
        "Q.8/ Write a program to handle a file opening error using exception handling ?"
      ],
      "metadata": {
        "id": "ZdQxIgaeVZtC"
      }
    },
    {
      "cell_type": "code",
      "source": [
        "try:\n",
        "    with open(\"myfile.txt\", \"r\") as file:\n",
        "        content = file.read()\n",
        "        print(content)\n",
        "except FileNotFoundError:\n",
        "    print(\"Error: The file does not exist.\")"
      ],
      "metadata": {
        "colab": {
          "base_uri": "https://localhost:8080/",
          "height": 0
        },
        "id": "4HqAgRMmVsXt",
        "outputId": "fa177320-0579-45c2-c0d8-a846ba410c80"
      },
      "execution_count": 21,
      "outputs": [
        {
          "output_type": "stream",
          "name": "stdout",
          "text": [
            "Error: The file does not exist.\n"
          ]
        }
      ]
    },
    {
      "cell_type": "markdown",
      "source": [
        "Q.9/ How can you read a file line by line and store its content in a list in Python ?"
      ],
      "metadata": {
        "id": "tHE3PMqMV9vF"
      }
    },
    {
      "cell_type": "code",
      "source": [
        "try :\n",
        " with open(\"myfile.txt\", \"r\") as file:\n",
        "        lines = file.readlines()\n",
        "        print(lines)\n",
        "except FileNotFoundError:\n",
        "    print(\"Error: The file does not exist.\")"
      ],
      "metadata": {
        "id": "7drKb_UCXHfs",
        "colab": {
          "base_uri": "https://localhost:8080/",
          "height": 0
        },
        "outputId": "577125d5-3523-40b5-f46c-b2c22133a5d4"
      },
      "execution_count": 17,
      "outputs": [
        {
          "output_type": "stream",
          "name": "stdout",
          "text": [
            "Error: The file does not exist.\n"
          ]
        }
      ]
    },
    {
      "cell_type": "markdown",
      "source": [
        "Q.10/ How can you append data to an existing file in Python ?"
      ],
      "metadata": {
        "id": "fWZO5_DyXPs7"
      }
    },
    {
      "cell_type": "code",
      "source": [
        "with open(\"myfile.txt\", \"a\") as file:\n",
        "    file.write(\"This line will be added at the end.\\n\")\n"
      ],
      "metadata": {
        "id": "UCS8vje3XWs7"
      },
      "execution_count": null,
      "outputs": []
    },
    {
      "cell_type": "markdown",
      "source": [
        "Q.11/ Write a Python program that uses a try-except block to handle an error when attempting to access a\n",
        "dictionary key that doesn't exist ?"
      ],
      "metadata": {
        "id": "S48HOZozB4CS"
      }
    },
    {
      "cell_type": "code",
      "source": [
        "student = {\n",
        "    \"name\": \"Soumya\",\n",
        "    \"age\": 20,\n",
        "    \"course\": \"Data Science\"\n",
        "}\n",
        "try:\n",
        "    print(\"Student grade:\", student[\"grade\"])\n",
        "except KeyError:\n",
        "    print(\"Error: The key 'grade' does not exist in the dictionary.\")"
      ],
      "metadata": {
        "colab": {
          "base_uri": "https://localhost:8080/",
          "height": 0
        },
        "id": "HiyYgkAFCA4A",
        "outputId": "afa83458-cae8-409e-88be-8329a034b229"
      },
      "execution_count": 1,
      "outputs": [
        {
          "output_type": "stream",
          "name": "stdout",
          "text": [
            "Error: The key 'grade' does not exist in the dictionary.\n"
          ]
        }
      ]
    },
    {
      "cell_type": "markdown",
      "source": [
        "Q.12/ Write a program that demonstrates using multiple except blocks to handle different types of exceptions ?"
      ],
      "metadata": {
        "id": "_CwSA_IzCobo"
      }
    },
    {
      "cell_type": "code",
      "source": [
        "try:\n",
        "    numbers = [10, 20, 30]\n",
        "    index = int(input(\"Enter an index (0-2): \"))\n",
        "    divisor = int(input(\"Enter a number to divide: \"))\n",
        "    result = numbers[index] / divisor\n",
        "    print(\"Result:\", result)\n",
        "except ZeroDivisionError:\n",
        "    print(\"Error: You cannot divide by zero!\")\n",
        "except ValueError:\n",
        "    print(\"Error: Please enter only numbers!\")\n",
        "except IndexError:\n",
        "    print(\"Error: Index out of range! Choose 0, 1, or 2.\")"
      ],
      "metadata": {
        "colab": {
          "base_uri": "https://localhost:8080/",
          "height": 0
        },
        "id": "ev7YZK4LFhIC",
        "outputId": "afe64c7c-404e-4e5f-e21c-ef76f466e724"
      },
      "execution_count": 3,
      "outputs": [
        {
          "output_type": "stream",
          "name": "stdout",
          "text": [
            "Enter an index (0-2): 6\n",
            "Enter a number to divide: 9\n",
            "Error: Index out of range! Choose 0, 1, or 2.\n"
          ]
        }
      ]
    },
    {
      "cell_type": "markdown",
      "source": [
        "Q.13/ How would you check if a file exists before attempting to read it in Python ?"
      ],
      "metadata": {
        "id": "DghMx4OiGUhZ"
      }
    },
    {
      "cell_type": "code",
      "source": [
        "import os\n",
        "filename = \"example.txt\"\n",
        "if os.path.exists(filename):\n",
        "    with open(filename, \"r\") as file:\n",
        "        content = file.read()\n",
        "        print(\"File content:\\n\", content)\n",
        "else:\n",
        "    print(\"Error: File does not exist!\")"
      ],
      "metadata": {
        "colab": {
          "base_uri": "https://localhost:8080/",
          "height": 0
        },
        "id": "x3oyzY0KGeOp",
        "outputId": "42210361-5ff3-417d-be41-b030bed5a86b"
      },
      "execution_count": 4,
      "outputs": [
        {
          "output_type": "stream",
          "name": "stdout",
          "text": [
            "Error: File does not exist!\n"
          ]
        }
      ]
    },
    {
      "cell_type": "markdown",
      "source": [
        "Q.14/  Write a program that uses the logging module to log both informational and error messages ?"
      ],
      "metadata": {
        "id": "Abtpo4GzGsUp"
      }
    },
    {
      "cell_type": "code",
      "source": [
        "import logging\n",
        "logging.basicConfig(level=logging.INFO)\n",
        "try:\n",
        "    a = int(input(\"Enter first number: \"))\n",
        "    b = int(input(\"Enter second number: \"))\n",
        "    result = a / b\n",
        "    logging.info(\"Division successful! Result = %f\", result)\n",
        "except ZeroDivisionError:\n",
        "    logging.error(\"Error: Division by zero!\")\n",
        "except ValueError:\n",
        "    logging.error(\"Error: Please enter valid numbers!\")"
      ],
      "metadata": {
        "colab": {
          "base_uri": "https://localhost:8080/",
          "height": 0
        },
        "id": "eTsYzQGrGzIJ",
        "outputId": "77d37edb-64ba-47ea-8f52-15332ec60cd5"
      },
      "execution_count": 7,
      "outputs": [
        {
          "name": "stdout",
          "output_type": "stream",
          "text": [
            "Enter first number: 50\n",
            "Enter second number: 25\n"
          ]
        }
      ]
    },
    {
      "cell_type": "markdown",
      "source": [
        "Q.15/ Write a Python program that prints the content of a file and handles the case when the file is empty ?"
      ],
      "metadata": {
        "id": "NYqskh-AHoSg"
      }
    },
    {
      "cell_type": "code",
      "source": [
        "try:\n",
        "    filename = \"example.txt\"   # file name\n",
        "    with open(filename, \"r\") as file:\n",
        "        content = file.read()\n",
        "        if content.strip() == \"\":\n",
        "            print(\"The file is empty.\")\n",
        "        else:\n",
        "            print(\"File content:\\n\", content)\n",
        "except FileNotFoundError:\n",
        "    print(\"Error: The file does not exist.\")"
      ],
      "metadata": {
        "colab": {
          "base_uri": "https://localhost:8080/",
          "height": 0
        },
        "id": "DonubJjMHuyY",
        "outputId": "8502766f-1a26-4191-a77e-cef21cecf8fd"
      },
      "execution_count": 10,
      "outputs": [
        {
          "output_type": "stream",
          "name": "stdout",
          "text": [
            "Error: The file does not exist.\n"
          ]
        }
      ]
    },
    {
      "cell_type": "markdown",
      "source": [
        "Q.16/  Demonstrate how to use memory profiling to check the memory usage of a small program ?"
      ],
      "metadata": {
        "id": "WfkeqKfzH9us"
      }
    },
    {
      "cell_type": "code",
      "source": [
        "from memory_profiler import profile\n",
        "@profile\n",
        "def create_list():\n",
        "    numbers = [i for i in range(1000000)]\n",
        "    total = sum(numbers)\n",
        "    print(\"Sum of numbers:\", total)\n",
        "if __name__ == \"__main__\":\n",
        "    create_list()"
      ],
      "metadata": {
        "colab": {
          "base_uri": "https://localhost:8080/",
          "height": 400
        },
        "collapsed": true,
        "id": "PH-oFwMoIE0A",
        "outputId": "95d08788-5d69-4ba5-ead1-780df1d66520"
      },
      "execution_count": 32,
      "outputs": [
        {
          "output_type": "error",
          "ename": "ModuleNotFoundError",
          "evalue": "No module named 'memory_profiler'",
          "traceback": [
            "\u001b[0;31m---------------------------------------------------------------------------\u001b[0m",
            "\u001b[0;31mModuleNotFoundError\u001b[0m                       Traceback (most recent call last)",
            "\u001b[0;32m/tmp/ipython-input-1298941599.py\u001b[0m in \u001b[0;36m<cell line: 0>\u001b[0;34m()\u001b[0m\n\u001b[0;32m----> 1\u001b[0;31m \u001b[0;32mfrom\u001b[0m \u001b[0mmemory_profiler\u001b[0m \u001b[0;32mimport\u001b[0m \u001b[0mprofile\u001b[0m\u001b[0;34m\u001b[0m\u001b[0;34m\u001b[0m\u001b[0m\n\u001b[0m\u001b[1;32m      2\u001b[0m \u001b[0;34m@\u001b[0m\u001b[0mprofile\u001b[0m\u001b[0;34m\u001b[0m\u001b[0;34m\u001b[0m\u001b[0m\n\u001b[1;32m      3\u001b[0m \u001b[0;32mdef\u001b[0m \u001b[0mcreate_list\u001b[0m\u001b[0;34m(\u001b[0m\u001b[0;34m)\u001b[0m\u001b[0;34m:\u001b[0m\u001b[0;34m\u001b[0m\u001b[0;34m\u001b[0m\u001b[0m\n\u001b[1;32m      4\u001b[0m     \u001b[0mnumbers\u001b[0m \u001b[0;34m=\u001b[0m \u001b[0;34m[\u001b[0m\u001b[0mi\u001b[0m \u001b[0;32mfor\u001b[0m \u001b[0mi\u001b[0m \u001b[0;32min\u001b[0m \u001b[0mrange\u001b[0m\u001b[0;34m(\u001b[0m\u001b[0;36m1000000\u001b[0m\u001b[0;34m)\u001b[0m\u001b[0;34m]\u001b[0m\u001b[0;34m\u001b[0m\u001b[0;34m\u001b[0m\u001b[0m\n\u001b[1;32m      5\u001b[0m     \u001b[0mtotal\u001b[0m \u001b[0;34m=\u001b[0m \u001b[0msum\u001b[0m\u001b[0;34m(\u001b[0m\u001b[0mnumbers\u001b[0m\u001b[0;34m)\u001b[0m\u001b[0;34m\u001b[0m\u001b[0;34m\u001b[0m\u001b[0m\n",
            "\u001b[0;31mModuleNotFoundError\u001b[0m: No module named 'memory_profiler'",
            "",
            "\u001b[0;31m---------------------------------------------------------------------------\u001b[0;32m\nNOTE: If your import is failing due to a missing package, you can\nmanually install dependencies using either !pip or !apt.\n\nTo view examples of installing some common dependencies, click the\n\"Open Examples\" button below.\n\u001b[0;31m---------------------------------------------------------------------------\u001b[0m\n"
          ],
          "errorDetails": {
            "actions": [
              {
                "action": "open_url",
                "actionText": "Open Examples",
                "url": "/notebooks/snippets/importing_libraries.ipynb"
              }
            ]
          }
        }
      ]
    },
    {
      "cell_type": "markdown",
      "source": [
        "Q.17/ Write a Python program to create and write a list of numbers to a file, one number per line ?"
      ],
      "metadata": {
        "id": "MHNDYQ4oJljP"
      }
    },
    {
      "cell_type": "code",
      "source": [
        "numbers = [10, 20, 30, 40, 50]\n",
        "with open(\"numbers.txt\", \"w\") as file:\n",
        "    for num in numbers:\n",
        "        file.write(str(num) + \"\\n\")\n",
        "print(\"Numbers written to numbers.txt successfully!\")"
      ],
      "metadata": {
        "colab": {
          "base_uri": "https://localhost:8080/",
          "height": 0
        },
        "id": "bg9DBHRaJvYw",
        "outputId": "ddaaad80-167d-4686-e40a-7ddc10554124"
      },
      "execution_count": 18,
      "outputs": [
        {
          "output_type": "stream",
          "name": "stdout",
          "text": [
            "Numbers written to numbers.txt successfully!\n"
          ]
        }
      ]
    },
    {
      "cell_type": "markdown",
      "source": [
        "Q.18/ How would you implement a basic logging setup that logs to a file with rotation after 1MB ?"
      ],
      "metadata": {
        "id": "33yFD9FSKBfc"
      }
    },
    {
      "cell_type": "code",
      "source": [
        "import logging\n",
        "from logging.handlers import RotatingFileHandler\n",
        "handler = RotatingFileHandler(\"app.log\", maxBytes=1_000_000, backupCount=2)\n",
        "logging.basicConfig(level=logging.INFO, handlers=[handler])\n",
        "for i in range(10000):\n",
        "    logging.info(f\"Message {i}\")"
      ],
      "metadata": {
        "id": "c5VTE8SEKIKH"
      },
      "execution_count": 19,
      "outputs": []
    },
    {
      "cell_type": "markdown",
      "source": [
        "Q.20/ Write a program that handles both IndexError and KeyError using a try-except block ?"
      ],
      "metadata": {
        "id": "xp2wBkFULO5F"
      }
    },
    {
      "cell_type": "code",
      "source": [
        "try:\n",
        "    numbers = [1, 2, 3]\n",
        "    print(\"Accessing 5th element:\", numbers[4])\n",
        "    student = {\"name\": \"Soumya\", \"age\": 20}\n",
        "    print(\"Student grade:\", student[\"grade\"])\n",
        "except IndexError:\n",
        "    print(\"Error: List index out of range!\")\n",
        "except KeyError:\n",
        "    print(\"Error: Dictionary key not found!\")"
      ],
      "metadata": {
        "colab": {
          "base_uri": "https://localhost:8080/",
          "height": 0
        },
        "id": "wFBZDejWL5Ep",
        "outputId": "a2a44192-1252-4c55-8248-53a78266d5a1"
      },
      "execution_count": 28,
      "outputs": [
        {
          "output_type": "stream",
          "name": "stdout",
          "text": [
            "Error: List index out of range!\n"
          ]
        }
      ]
    },
    {
      "cell_type": "markdown",
      "source": [
        "Q.21/ Write a Python program that reads a file and prints the number of occurrences of a specific word ?"
      ],
      "metadata": {
        "id": "IXhxDiX_ThWf"
      }
    },
    {
      "cell_type": "code",
      "source": [
        "filename = \"assignment.txt\"\n",
        "word_to_find = \"python\"\n",
        "\n",
        "with open(filename, \"r\") as file:\n",
        "    content = file.read().lower()\n",
        "    count = content.split().count(word_to_find.lower())\n",
        "    print(f\"The word '{word_to_find}' occurred {count} times in the file.\")\n"
      ],
      "metadata": {
        "colab": {
          "base_uri": "https://localhost:8080/",
          "height": 0
        },
        "id": "de7fFuXITrHu",
        "outputId": "79d462e1-eac2-47d2-c0ea-dc8928f9151a"
      },
      "execution_count": 33,
      "outputs": [
        {
          "output_type": "stream",
          "name": "stdout",
          "text": [
            "The word 'python' occurred 0 times in the file.\n"
          ]
        }
      ]
    },
    {
      "cell_type": "markdown",
      "source": [
        "Q.22/How can you check if a file is empty before attempting to read its contents ?"
      ],
      "metadata": {
        "id": "IL6Qv-S5U9q-"
      }
    },
    {
      "cell_type": "code",
      "source": [
        "import os\n",
        "filename = \"pw.txt\"\n",
        "if os.path.exists(filename):\n",
        "    if os.path.getsize(filename) == 0:\n",
        "        print(\"The file is empty.\")\n",
        "    else:\n",
        "        with open(filename, \"r\") as file:\n",
        "            print(file.read())\n",
        "else:\n",
        "    print(\"File does not exist!\")"
      ],
      "metadata": {
        "colab": {
          "base_uri": "https://localhost:8080/",
          "height": 0
        },
        "id": "2LsrskawVE7_",
        "outputId": "aef92f52-f347-49cb-92ba-d64f23e1bd56"
      },
      "execution_count": 35,
      "outputs": [
        {
          "output_type": "stream",
          "name": "stdout",
          "text": [
            "File does not exist!\n"
          ]
        }
      ]
    },
    {
      "cell_type": "markdown",
      "source": [
        "Q.23/  Write a Python program that writes to a log file when an error occurs during file handling ?"
      ],
      "metadata": {
        "id": "ZcMpgS8xVqe1"
      }
    },
    {
      "cell_type": "code",
      "source": [
        "import logging\n",
        "logging.basicConfig(filename=\"assignment.txt\", level=logging.ERROR)\n",
        "\n",
        "try:\n",
        "    with open(\"example.txt\") as f:\n",
        "        print(f.read())\n",
        "except FileNotFoundError:\n",
        "    logging.error(\"File not found!\")\n",
        "    print(\"Error: File does not exist!\")"
      ],
      "metadata": {
        "colab": {
          "base_uri": "https://localhost:8080/",
          "height": 0
        },
        "id": "ESeBxApeVv6d",
        "outputId": "990075f2-8b4c-4c76-a43b-0a10a5054b66"
      },
      "execution_count": 36,
      "outputs": [
        {
          "output_type": "stream",
          "name": "stderr",
          "text": [
            "ERROR:root:File not found!\n"
          ]
        },
        {
          "output_type": "stream",
          "name": "stdout",
          "text": [
            "Error: File does not exist!\n"
          ]
        }
      ]
    }
  ]
}